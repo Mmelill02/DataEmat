{
 "cells": [
  {
   "cell_type": "markdown",
   "id": "95d9fda8-8050-4375-92bb-f730c4fb1f25",
   "metadata": {},
   "source": [
    "# Likes Report\n",
    "## Michael Melillo\n",
    "## 9/12/2024"
   ]
  },
  {
   "cell_type": "markdown",
   "id": "ab5a61ca-d919-48e1-bbb0-a000b7f731c3",
   "metadata": {},
   "source": [
    "**Who or what is the source of your personal Instagram data? (you downloaded the data, but did you create it)?**\n",
    "\n",
    "Instagram created the data based off of my activity regarding posts during my time using the app since the creation of my account.  \n",
    "\n",
    "**Why was this data created and what purposes can the data serve?**\n",
    "\n",
    "My instagram likes data was created to track my engagement, and personalize what I see on my page.  It provides me with insights on the content\n",
    "I like as well as insight for the creator\n",
    "\n",
    "**In what ways may this data be reliable?**\n",
    "\n",
    "It can be reliable in providing an accurate represenatation of my interactions with posts I have liked, and It gives me a clear understanding \n",
    "of my preferences overtime. \n",
    "\n",
    "**In what ways may this data be unreliable?**\n",
    "\n",
    "This data can be unreliable due to accidentally liking specific posts or unforeseen issues with instagram and the meta platform."
   ]
  },
  {
   "cell_type": "code",
   "execution_count": 2,
   "id": "0645e02b-7361-45d3-8f83-e14e9274a0d4",
   "metadata": {},
   "outputs": [],
   "source": [
    "#import\n",
    "import json\n",
    "import pandas as pd"
   ]
  },
  {
   "cell_type": "markdown",
   "id": "2ca31124-042e-459b-a401-f81e059ceaf9",
   "metadata": {},
   "source": [
    "**Source:**\n",
    "The data originates from instagram and is downloaded by users through the meta platform by requesting an export.  It includes my personal data such as posts I liked from the past to the present.\n",
    "\n",
    "**Structure**\n",
    "This data was organized in a JSON format per my request from the meta platform.  It is formatted with keys such as (likes_media_likes) which contains a list of liked posts, href which refers to a URL and timestamp for the time the interaction (like) took place."
   ]
  },
  {
   "cell_type": "code",
   "execution_count": 3,
   "id": "3192c3f1-9254-450c-bc2e-3018bc0c8527",
   "metadata": {},
   "outputs": [],
   "source": [
    "#enter path to file\n",
    "path = r\"C:\\Users\\mmeli\\Data in Emerging Media and Technology\\liked_posts.json\"\n",
    "with open(path)as j:\n",
    "    likes = json.load(j)"
   ]
  },
  {
   "cell_type": "markdown",
   "id": "3a12f004-9bb8-468c-93ed-9add0c40812b",
   "metadata": {},
   "source": [
    "***Likes Data File*** -The liked_posts.json file contains the likes_media_likes key, which stores information about posts I have \n",
    "liked on Instagram. This includes details such as the post URL and the timestamp when the like occurred. We will extract \n",
    "and convert this data into a DataFrame for easier manipulation and analysis.\n"
   ]
  },
  {
   "cell_type": "code",
   "execution_count": 4,
   "id": "7b74bc5c-225d-4ae3-8080-b64f196c1ba4",
   "metadata": {},
   "outputs": [
    {
     "data": {
      "text/plain": [
       "dict_keys(['likes_media_likes'])"
      ]
     },
     "execution_count": 4,
     "metadata": {},
     "output_type": "execute_result"
    }
   ],
   "source": [
    "likes.keys()"
   ]
  },
  {
   "cell_type": "markdown",
   "id": "6105a764-33a6-4fdd-87fb-a3912383e78d",
   "metadata": {},
   "source": [
    "***DataFrame Creation*** - This line of code is creating a DataFrame to display the lists nested within the 'likes_media_likes' key."
   ]
  },
  {
   "cell_type": "code",
   "execution_count": 5,
   "id": "11635642-e8b2-4f45-92b8-08aa389539cc",
   "metadata": {},
   "outputs": [
    {
     "data": {
      "text/html": [
       "<div>\n",
       "<style scoped>\n",
       "    .dataframe tbody tr th:only-of-type {\n",
       "        vertical-align: middle;\n",
       "    }\n",
       "\n",
       "    .dataframe tbody tr th {\n",
       "        vertical-align: top;\n",
       "    }\n",
       "\n",
       "    .dataframe thead th {\n",
       "        text-align: right;\n",
       "    }\n",
       "</style>\n",
       "<table border=\"1\" class=\"dataframe\">\n",
       "  <thead>\n",
       "    <tr style=\"text-align: right;\">\n",
       "      <th></th>\n",
       "      <th>title</th>\n",
       "      <th>string_list_data</th>\n",
       "    </tr>\n",
       "  </thead>\n",
       "  <tbody>\n",
       "    <tr>\n",
       "      <th>0</th>\n",
       "      <td>lukebhawley</td>\n",
       "      <td>[{'href': 'https://www.instagram.com/reel/C-5h...</td>\n",
       "    </tr>\n",
       "    <tr>\n",
       "      <th>1</th>\n",
       "      <td>jules.singer</td>\n",
       "      <td>[{'href': 'https://www.instagram.com/p/C-88Gfa...</td>\n",
       "    </tr>\n",
       "    <tr>\n",
       "      <th>2</th>\n",
       "      <td>treyusrawls</td>\n",
       "      <td>[{'href': 'https://www.instagram.com/reel/C98q...</td>\n",
       "    </tr>\n",
       "    <tr>\n",
       "      <th>3</th>\n",
       "      <td>livvydunne</td>\n",
       "      <td>[{'href': 'https://www.instagram.com/p/C-GPOad...</td>\n",
       "    </tr>\n",
       "    <tr>\n",
       "      <th>4</th>\n",
       "      <td>metallica</td>\n",
       "      <td>[{'href': 'https://www.instagram.com/p/C97VGRt...</td>\n",
       "    </tr>\n",
       "  </tbody>\n",
       "</table>\n",
       "</div>"
      ],
      "text/plain": [
       "          title                                   string_list_data\n",
       "0   lukebhawley  [{'href': 'https://www.instagram.com/reel/C-5h...\n",
       "1  jules.singer  [{'href': 'https://www.instagram.com/p/C-88Gfa...\n",
       "2   treyusrawls  [{'href': 'https://www.instagram.com/reel/C98q...\n",
       "3    livvydunne  [{'href': 'https://www.instagram.com/p/C-GPOad...\n",
       "4     metallica  [{'href': 'https://www.instagram.com/p/C97VGRt..."
      ]
     },
     "execution_count": 5,
     "metadata": {},
     "output_type": "execute_result"
    }
   ],
   "source": [
    "likes_df = pd.DataFrame(likes['likes_media_likes'])\n",
    "likes_df.head()"
   ]
  },
  {
   "cell_type": "code",
   "execution_count": 6,
   "id": "935dcf6b-2ab3-4ad8-a55b-01d061ddcf85",
   "metadata": {},
   "outputs": [
    {
     "data": {
      "text/plain": [
       "1724348792"
      ]
     },
     "execution_count": 6,
     "metadata": {},
     "output_type": "execute_result"
    }
   ],
   "source": [
    "likes_df['string_list_data'].iloc[0][0]['timestamp']"
   ]
  },
  {
   "cell_type": "markdown",
   "id": "ed3cc220-37fd-4c41-a2a2-da2e34c7ee48",
   "metadata": {},
   "source": [
    "***Timestamp Column*** - We are now creating a new column in the DataFrame to extract and store the timestamp values for each liked post. \n",
    "This will allow us to analyze the time the likes occured."
   ]
  },
  {
   "cell_type": "code",
   "execution_count": 7,
   "id": "fde36398-e635-47c0-ab57-202dd1525cc9",
   "metadata": {},
   "outputs": [
    {
     "data": {
      "text/html": [
       "<div>\n",
       "<style scoped>\n",
       "    .dataframe tbody tr th:only-of-type {\n",
       "        vertical-align: middle;\n",
       "    }\n",
       "\n",
       "    .dataframe tbody tr th {\n",
       "        vertical-align: top;\n",
       "    }\n",
       "\n",
       "    .dataframe thead th {\n",
       "        text-align: right;\n",
       "    }\n",
       "</style>\n",
       "<table border=\"1\" class=\"dataframe\">\n",
       "  <thead>\n",
       "    <tr style=\"text-align: right;\">\n",
       "      <th></th>\n",
       "      <th>title</th>\n",
       "      <th>string_list_data</th>\n",
       "      <th>timestamp</th>\n",
       "    </tr>\n",
       "  </thead>\n",
       "  <tbody>\n",
       "    <tr>\n",
       "      <th>0</th>\n",
       "      <td>lukebhawley</td>\n",
       "      <td>[{'href': 'https://www.instagram.com/reel/C-5h...</td>\n",
       "      <td>1724348792</td>\n",
       "    </tr>\n",
       "    <tr>\n",
       "      <th>1</th>\n",
       "      <td>jules.singer</td>\n",
       "      <td>[{'href': 'https://www.instagram.com/p/C-88Gfa...</td>\n",
       "      <td>1724327594</td>\n",
       "    </tr>\n",
       "    <tr>\n",
       "      <th>2</th>\n",
       "      <td>treyusrawls</td>\n",
       "      <td>[{'href': 'https://www.instagram.com/reel/C98q...</td>\n",
       "      <td>1722697046</td>\n",
       "    </tr>\n",
       "    <tr>\n",
       "      <th>3</th>\n",
       "      <td>livvydunne</td>\n",
       "      <td>[{'href': 'https://www.instagram.com/p/C-GPOad...</td>\n",
       "      <td>1722683986</td>\n",
       "    </tr>\n",
       "    <tr>\n",
       "      <th>4</th>\n",
       "      <td>metallica</td>\n",
       "      <td>[{'href': 'https://www.instagram.com/p/C97VGRt...</td>\n",
       "      <td>1722194210</td>\n",
       "    </tr>\n",
       "    <tr>\n",
       "      <th>...</th>\n",
       "      <td>...</td>\n",
       "      <td>...</td>\n",
       "      <td>...</td>\n",
       "    </tr>\n",
       "    <tr>\n",
       "      <th>3717</th>\n",
       "      <td>nicekicks</td>\n",
       "      <td>[{'href': 'https://www.instagram.com/p/jwdTPYB...</td>\n",
       "      <td>1391008169</td>\n",
       "    </tr>\n",
       "    <tr>\n",
       "      <th>3718</th>\n",
       "      <td>nicekicks</td>\n",
       "      <td>[{'href': 'https://www.instagram.com/p/juKrifB...</td>\n",
       "      <td>1390935971</td>\n",
       "    </tr>\n",
       "    <tr>\n",
       "      <th>3719</th>\n",
       "      <td>nicekicks</td>\n",
       "      <td>[{'href': 'https://www.instagram.com/p/jt3v08h...</td>\n",
       "      <td>1390927929</td>\n",
       "    </tr>\n",
       "    <tr>\n",
       "      <th>3720</th>\n",
       "      <td>nicekicks</td>\n",
       "      <td>[{'href': 'https://www.instagram.com/p/jt-JkLB...</td>\n",
       "      <td>1390927927</td>\n",
       "    </tr>\n",
       "    <tr>\n",
       "      <th>3721</th>\n",
       "      <td>nicekicks</td>\n",
       "      <td>[{'href': 'https://www.instagram.com/p/jtwlOvh...</td>\n",
       "      <td>1390927495</td>\n",
       "    </tr>\n",
       "  </tbody>\n",
       "</table>\n",
       "<p>3722 rows × 3 columns</p>\n",
       "</div>"
      ],
      "text/plain": [
       "             title                                   string_list_data  \\\n",
       "0      lukebhawley  [{'href': 'https://www.instagram.com/reel/C-5h...   \n",
       "1     jules.singer  [{'href': 'https://www.instagram.com/p/C-88Gfa...   \n",
       "2      treyusrawls  [{'href': 'https://www.instagram.com/reel/C98q...   \n",
       "3       livvydunne  [{'href': 'https://www.instagram.com/p/C-GPOad...   \n",
       "4        metallica  [{'href': 'https://www.instagram.com/p/C97VGRt...   \n",
       "...            ...                                                ...   \n",
       "3717     nicekicks  [{'href': 'https://www.instagram.com/p/jwdTPYB...   \n",
       "3718     nicekicks  [{'href': 'https://www.instagram.com/p/juKrifB...   \n",
       "3719     nicekicks  [{'href': 'https://www.instagram.com/p/jt3v08h...   \n",
       "3720     nicekicks  [{'href': 'https://www.instagram.com/p/jt-JkLB...   \n",
       "3721     nicekicks  [{'href': 'https://www.instagram.com/p/jtwlOvh...   \n",
       "\n",
       "       timestamp  \n",
       "0     1724348792  \n",
       "1     1724327594  \n",
       "2     1722697046  \n",
       "3     1722683986  \n",
       "4     1722194210  \n",
       "...          ...  \n",
       "3717  1391008169  \n",
       "3718  1390935971  \n",
       "3719  1390927929  \n",
       "3720  1390927927  \n",
       "3721  1390927495  \n",
       "\n",
       "[3722 rows x 3 columns]"
      ]
     },
     "execution_count": 7,
     "metadata": {},
     "output_type": "execute_result"
    }
   ],
   "source": [
    "likes_df['timestamp'] = [x[0]['timestamp'] if isinstance(x, list) else '' for x in likes_df['string_list_data']]\n",
    "likes_df"
   ]
  },
  {
   "cell_type": "markdown",
   "id": "22c46a23-5432-410a-8d42-e7639583c36c",
   "metadata": {},
   "source": [
    "***Group & Sort*** - We will group the data by the title column to summarize the number of likes per account, which contains the usernames of the accounts. \n",
    "This will help us identify which accounts I interacted with the most."
   ]
  },
  {
   "cell_type": "code",
   "execution_count": 8,
   "id": "78059967-f9d9-477d-ac53-e4d0b84cad98",
   "metadata": {},
   "outputs": [
    {
     "data": {
      "text/html": [
       "<div>\n",
       "<style scoped>\n",
       "    .dataframe tbody tr th:only-of-type {\n",
       "        vertical-align: middle;\n",
       "    }\n",
       "\n",
       "    .dataframe tbody tr th {\n",
       "        vertical-align: top;\n",
       "    }\n",
       "\n",
       "    .dataframe thead th {\n",
       "        text-align: right;\n",
       "    }\n",
       "</style>\n",
       "<table border=\"1\" class=\"dataframe\">\n",
       "  <thead>\n",
       "    <tr style=\"text-align: right;\">\n",
       "      <th></th>\n",
       "      <th>string_list_data</th>\n",
       "      <th>timestamp</th>\n",
       "    </tr>\n",
       "    <tr>\n",
       "      <th>title</th>\n",
       "      <th></th>\n",
       "      <th></th>\n",
       "    </tr>\n",
       "  </thead>\n",
       "  <tbody>\n",
       "    <tr>\n",
       "      <th>worldstar</th>\n",
       "      <td>158</td>\n",
       "      <td>158</td>\n",
       "    </tr>\n",
       "    <tr>\n",
       "      <th>oliviarodrigo</th>\n",
       "      <td>53</td>\n",
       "      <td>53</td>\n",
       "    </tr>\n",
       "    <tr>\n",
       "      <th>barstoolkent</th>\n",
       "      <td>44</td>\n",
       "      <td>44</td>\n",
       "    </tr>\n",
       "    <tr>\n",
       "      <th>lolo</th>\n",
       "      <td>42</td>\n",
       "      <td>42</td>\n",
       "    </tr>\n",
       "    <tr>\n",
       "      <th>_holy___</th>\n",
       "      <td>41</td>\n",
       "      <td>41</td>\n",
       "    </tr>\n",
       "  </tbody>\n",
       "</table>\n",
       "</div>"
      ],
      "text/plain": [
       "               string_list_data  timestamp\n",
       "title                                     \n",
       "worldstar                   158        158\n",
       "oliviarodrigo                53         53\n",
       "barstoolkent                 44         44\n",
       "lolo                         42         42\n",
       "_holy___                     41         41"
      ]
     },
     "execution_count": 8,
     "metadata": {},
     "output_type": "execute_result"
    }
   ],
   "source": [
    "likes_df.groupby('title').count().\\\n",
    "sort_values('timestamp', ascending = False).head()"
   ]
  },
  {
   "cell_type": "markdown",
   "id": "6698c72e-2e96-47f9-9885-99ad24ae4d4b",
   "metadata": {},
   "source": [
    "***Data Visualization*** - This is a Visualization of the top 5 accounts based on numbers of likes recieved. \n",
    "We are also importing matplotlib which is the library for allowing us to turn our data into a graph form.  "
   ]
  },
  {
   "cell_type": "code",
   "execution_count": 9,
   "id": "6b1fa64e-63a7-4bc9-9a1e-e9457bffe6f2",
   "metadata": {},
   "outputs": [],
   "source": [
    "import matplotlib as plt"
   ]
  },
  {
   "cell_type": "code",
   "execution_count": 10,
   "id": "1f483df4-a7e0-4285-8d79-9bbfee87c608",
   "metadata": {},
   "outputs": [
    {
     "data": {
      "text/plain": [
       "<Axes: xlabel='title'>"
      ]
     },
     "execution_count": 10,
     "metadata": {},
     "output_type": "execute_result"
    },
    {
     "data": {
      "image/png": "[encoded data removed]",
      "text/plain": [
       "<Figure size 640x480 with 1 Axes>"
      ]
     },
     "metadata": {},
     "output_type": "display_data"
    }
   ],
   "source": [
    "likes_df.groupby('title').count().\\\n",
    "sort_values('timestamp', ascending = False).head()['timestamp'].plot(kind = 'bar')"
   ]
  },
  {
   "cell_type": "markdown",
   "id": "a696c0ee-1aaa-45c2-b66c-e30220c76e15",
   "metadata": {},
   "source": [
    "The advertisers_using_your_activity_or_information.json file contains a list of advertisers that have used my \n",
    "activity data for marketing purposes. "
   ]
  },
  {
   "cell_type": "markdown",
   "id": "a36fcf43-2651-4b2f-9a35-a34973f8d66d",
   "metadata": {},
   "source": [
    "***Hypothesis*** - I believe that a lot of my data is being utilized by marketing companies to target me with ads for business services, \n",
    "such as marketing solutions, courses, or coaching, \n",
    "based on my activity and interactions on the platform.\n",
    "\n",
    "***Theoretical Elements*** - Instagram uses personalized advertising by collecting it's users data which can be used to target specific people with ads.  \n",
    "Marketing companies use this data to create a custom audience and retarget users.  This can lead to me seeing business coaching, \n",
    "or ads offering marketing services based on my business related interests.  \n",
    "\n",
    "***Statistical Elements*** - I would expect to see a higher frequency of ads from marketing companies or business coaches in the data because of my interests. \n",
    "With this data a large portion of them should fall into the business or marketing category.  "
   ]
  },
  {
   "cell_type": "markdown",
   "id": "4ecc33e6-252e-4573-afbd-4b9da1720b42",
   "metadata": {},
   "source": [
    "***Reason for choosing this data*** - It contains advertisers using my data to target me based on my interests."
   ]
  },
  {
   "cell_type": "code",
   "execution_count": 11,
   "id": "1c12274a-0a9a-4254-87be-6b9fc39a6a21",
   "metadata": {},
   "outputs": [],
   "source": [
    "#Bringing in the path to file\n",
    "path = r\"C:\\Users\\mmeli\\OneDrive\\Desktop\\advertisers_using_your_activity_or_information.json\"\n",
    "with open(path)as j:\n",
    "    ads = json.load(j)"
   ]
  },
  {
   "cell_type": "code",
   "execution_count": 12,
   "id": "55d1dcba-6baf-4f47-9c34-0c33055582a2",
   "metadata": {},
   "outputs": [
    {
     "data": {
      "text/plain": [
       "dict_keys(['custom_audiences_all_types_v2'])"
      ]
     },
     "execution_count": 12,
     "metadata": {},
     "output_type": "execute_result"
    }
   ],
   "source": [
    "ads.keys()"
   ]
  },
  {
   "cell_type": "code",
   "execution_count": 13,
   "id": "fed231e2-060e-403f-af12-1350f5e32602",
   "metadata": {},
   "outputs": [
    {
     "data": {
      "text/html": [
       "<div>\n",
       "<style scoped>\n",
       "    .dataframe tbody tr th:only-of-type {\n",
       "        vertical-align: middle;\n",
       "    }\n",
       "\n",
       "    .dataframe tbody tr th {\n",
       "        vertical-align: top;\n",
       "    }\n",
       "\n",
       "    .dataframe thead th {\n",
       "        text-align: right;\n",
       "    }\n",
       "</style>\n",
       "<table border=\"1\" class=\"dataframe\">\n",
       "  <thead>\n",
       "    <tr style=\"text-align: right;\">\n",
       "      <th></th>\n",
       "      <th>advertiser_name</th>\n",
       "      <th>has_data_file_custom_audience</th>\n",
       "      <th>has_remarketing_custom_audience</th>\n",
       "      <th>has_in_person_store_visit</th>\n",
       "    </tr>\n",
       "  </thead>\n",
       "  <tbody>\n",
       "    <tr>\n",
       "      <th>0</th>\n",
       "      <td>LiveRamp</td>\n",
       "      <td>True</td>\n",
       "      <td>False</td>\n",
       "      <td>False</td>\n",
       "    </tr>\n",
       "    <tr>\n",
       "      <th>1</th>\n",
       "      <td>Broadleaf Marketing &amp; SEO</td>\n",
       "      <td>True</td>\n",
       "      <td>False</td>\n",
       "      <td>False</td>\n",
       "    </tr>\n",
       "    <tr>\n",
       "      <th>2</th>\n",
       "      <td>rolling loud</td>\n",
       "      <td>True</td>\n",
       "      <td>False</td>\n",
       "      <td>False</td>\n",
       "    </tr>\n",
       "    <tr>\n",
       "      <th>3</th>\n",
       "      <td>KISS Beauty Products</td>\n",
       "      <td>True</td>\n",
       "      <td>False</td>\n",
       "      <td>False</td>\n",
       "    </tr>\n",
       "    <tr>\n",
       "      <th>4</th>\n",
       "      <td>INKAS Armored</td>\n",
       "      <td>True</td>\n",
       "      <td>False</td>\n",
       "      <td>False</td>\n",
       "    </tr>\n",
       "    <tr>\n",
       "      <th>5</th>\n",
       "      <td>_thevarietystore_</td>\n",
       "      <td>True</td>\n",
       "      <td>False</td>\n",
       "      <td>False</td>\n",
       "    </tr>\n",
       "    <tr>\n",
       "      <th>6</th>\n",
       "      <td>IZEA Worldwide, Inc.</td>\n",
       "      <td>True</td>\n",
       "      <td>False</td>\n",
       "      <td>False</td>\n",
       "    </tr>\n",
       "    <tr>\n",
       "      <th>7</th>\n",
       "      <td>National Automobile Dealers Association</td>\n",
       "      <td>True</td>\n",
       "      <td>False</td>\n",
       "      <td>False</td>\n",
       "    </tr>\n",
       "    <tr>\n",
       "      <th>8</th>\n",
       "      <td>Beall's Nursery &amp; Landscaping</td>\n",
       "      <td>True</td>\n",
       "      <td>False</td>\n",
       "      <td>False</td>\n",
       "    </tr>\n",
       "    <tr>\n",
       "      <th>9</th>\n",
       "      <td>TheKingzletter</td>\n",
       "      <td>True</td>\n",
       "      <td>False</td>\n",
       "      <td>False</td>\n",
       "    </tr>\n",
       "  </tbody>\n",
       "</table>\n",
       "</div>"
      ],
      "text/plain": [
       "                           advertiser_name  has_data_file_custom_audience  \\\n",
       "0                                 LiveRamp                           True   \n",
       "1                Broadleaf Marketing & SEO                           True   \n",
       "2                             rolling loud                           True   \n",
       "3                     KISS Beauty Products                           True   \n",
       "4                            INKAS Armored                           True   \n",
       "5                        _thevarietystore_                           True   \n",
       "6                     IZEA Worldwide, Inc.                           True   \n",
       "7  National Automobile Dealers Association                           True   \n",
       "8            Beall's Nursery & Landscaping                           True   \n",
       "9                           TheKingzletter                           True   \n",
       "\n",
       "   has_remarketing_custom_audience  has_in_person_store_visit  \n",
       "0                            False                      False  \n",
       "1                            False                      False  \n",
       "2                            False                      False  \n",
       "3                            False                      False  \n",
       "4                            False                      False  \n",
       "5                            False                      False  \n",
       "6                            False                      False  \n",
       "7                            False                      False  \n",
       "8                            False                      False  \n",
       "9                            False                      False  "
      ]
     },
     "execution_count": 13,
     "metadata": {},
     "output_type": "execute_result"
    }
   ],
   "source": [
    "ads_df = pd.DataFrame(ads['custom_audiences_all_types_v2'])\n",
    "ads_df.head(10)"
   ]
  },
  {
   "cell_type": "markdown",
   "id": "c2f3bc58-f9f1-4432-b5bc-e3bbff20decc",
   "metadata": {},
   "source": [
    "***What the DataFrame Represents*** - The DataFrame lists advertisers who have used my instagram data activity for marketing purposes.  It includes columns like advertiser_name and whether they used custom audiences or retarget marketing on me.  \n",
    "\n",
    "***Tidy Data*** - The data mostly follows tidy data principles, with each advertiser as a row and attributes in their own columns.\n",
    "\n",
    "***Hypothesis Testing*** - This data can help test my hypothesis by analyzing the advertiser_name column to see how many advertisers are related to marketing or business services which would support my idea that I am being targeted for business related ads.  "
   ]
  },
  {
   "cell_type": "markdown",
   "id": "e90bab38-a19d-4587-90f4-a21270575e21",
   "metadata": {},
   "source": [
    "***Conclusions based on data analyzed*** - Based on the data analyzed a lot of advertisers on meta are using my information to target me for business\n",
    "and coaching related ads.  This tells me that my data is being used in these advertisers data sets to personalize ads for me and people with the same\n",
    "interests.\n",
    "\n",
    "***Limitations & Potential next Steps*** - The data does not show advertisers who are using custom audiences.  A future analysis could include other\n",
    "datasets like ad interactions. Also bringing in advertiser data from facebook could help my hypothesis.  "
   ]
  }
 ],
 "metadata": {
  "kernelspec": {
   "display_name": "Python 3 (ipykernel)",
   "language": "python",
   "name": "python3"
  },
  "language_info": {
   "codemirror_mode": {
    "name": "ipython",
    "version": 3
   },
   "file_extension": ".py",
   "mimetype": "text/x-python",
   "name": "python",
   "nbconvert_exporter": "python",
   "pygments_lexer": "ipython3",
   "version": "3.12.4"
  }
 },
 "nbformat": 4,
 "nbformat_minor": 5
}
