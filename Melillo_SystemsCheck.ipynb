{
 "cells": [
  {
   "cell_type": "markdown",
   "id": "16732803-2d3e-4772-970c-fae1c1e144d9",
   "metadata": {},
   "source": [
    "# Systems Check\n",
    "## Michael Melillo\n",
    "### 8/22/2024\n",
    "\n",
    "In this class I want to learn to work with data at a high level and I want to learn about all the different ways I can use code to work with different types of data to achieve an outcome! I took a data science class using python my freshman year, so I have some pretty good base knowledge on python. I hope to learn more about advnced syntax with python and discover new libraries for data as well!\n",
    "\n",
    "1. learn more about python and data\n",
    "2. Different ways to work with data sets\n",
    "3. New ways to look at data\n",
    "- ___Python___\n",
    "- ___Libraries___\n",
    "- ___Syntax___\n",
    "  \n",
    "![data](https://img.freepik.com/free-vector/illustration-social-media-concept_53876-18140.jpg?w=900&t=st=1724342979~exp=1724343579~hmac=fb474b5bf5ce2fba2d4d3463e10154b17b321055dba213feae4368db1cf60f5b)"
   ]
  },
  {
   "cell_type": "code",
   "execution_count": 11,
   "id": "7d99b8fc-494e-466b-95ea-2af7c76982c1",
   "metadata": {},
   "outputs": [],
   "source": [
    "#Variable\n",
    "a = 5"
   ]
  },
  {
   "cell_type": "code",
   "execution_count": 8,
   "id": "f01464ec-5021-4843-b5c5-bd155fa0c86c",
   "metadata": {},
   "outputs": [
    {
     "name": "stdout",
     "output_type": "stream",
     "text": [
      "1\n",
      "2\n",
      "3\n"
     ]
    }
   ],
   "source": [
    "#For loop counting from 1-3\n",
    "for number in range(1, 4):\n",
    "    print(number)"
   ]
  },
  {
   "cell_type": "code",
   "execution_count": 12,
   "id": "1a4d6b0a-9108-4232-93f5-34c0a3e680fe",
   "metadata": {},
   "outputs": [
    {
     "name": "stdout",
     "output_type": "stream",
     "text": [
      "30\n"
     ]
    }
   ],
   "source": [
    "# Return Statement, This is a basic function that adds 2 numbers together\n",
    "\n",
    "#Defining\n",
    "def add_numbers(a, b):\n",
    "    return a + b\n",
    "\n",
    "#this is a function that will ad our numbers\n",
    "result = add_numbers(10, 20)\n",
    "print(result)"
   ]
  },
  {
   "cell_type": "code",
   "execution_count": null,
   "id": "f5dfafb1-8d90-4cc7-9db6-3e7d160ae5fd",
   "metadata": {},
   "outputs": [],
   "source": []
  }
 ],
 "metadata": {
  "kernelspec": {
   "display_name": "Python 3 (ipykernel)",
   "language": "python",
   "name": "python3"
  },
  "language_info": {
   "codemirror_mode": {
    "name": "ipython",
    "version": 3
   },
   "file_extension": ".py",
   "mimetype": "text/x-python",
   "name": "python",
   "nbconvert_exporter": "python",
   "pygments_lexer": "ipython3",
   "version": "3.12.4"
  }
 },
 "nbformat": 4,
 "nbformat_minor": 5
}
